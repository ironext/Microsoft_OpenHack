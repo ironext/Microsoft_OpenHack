{
 "cells": [
  {
   "cell_type": "code",
   "execution_count": 1,
   "metadata": {},
   "outputs": [],
   "source": [
    "# !conda install --no-deps -c menpo opencv=2.4.11 --yes"
   ]
  },
  {
   "cell_type": "code",
   "execution_count": 2,
   "metadata": {},
   "outputs": [],
   "source": [
    "# ! pip uninstall matplotlib --yes"
   ]
  },
  {
   "cell_type": "code",
   "execution_count": 3,
   "metadata": {},
   "outputs": [],
   "source": [
    "# ! pip install matplotlib -q"
   ]
  },
  {
   "cell_type": "code",
   "execution_count": 4,
   "metadata": {},
   "outputs": [],
   "source": [
    "import time \n",
    "import requests\n",
    "import cv2\n",
    "import operator\n",
    "import numpy as np\n",
    "import json\n",
    "\n",
    "# Import compatibility libraries (python 2/3 support)\n",
    "from __future__ import absolute_import\n",
    "from __future__ import division\n",
    "from __future__ import print_function\n",
    "from __future__ import unicode_literals\n",
    "\n",
    "# Python 3\n",
    "try:\n",
    "    from urllib.request import urlopen, Request\n",
    "    from urllib.parse import urlparse, urlencode\n",
    "    from http.client import HTTPSConnection\n",
    "# Python 2.7\n",
    "except ImportError:\n",
    "    from urlparse import urlparse\n",
    "    from urllib import urlencode\n",
    "    from urllib2 import Request, urlopen\n",
    "    from httplib import HTTPSConnection\n",
    "\n",
    "# Import library to display results\n",
    "import matplotlib.pyplot as plt\n",
    "%matplotlib inline \n",
    "# Display images within Jupyter"
   ]
  },
  {
   "cell_type": "code",
   "execution_count": 10,
   "metadata": {},
   "outputs": [],
   "source": [
    "# This could also be an external file\n",
    "config_json = '''{\n",
    "\"subscription_key_computer_vision\": \"7a4c8dfe22a246a3b0ca045c26d8621c\"\n",
    "}'''\n",
    "\n",
    "CONFIG=json.loads(config_json)\n",
    "# grab key from json in config\n",
    "subscription_key = CONFIG['subscription_key_computer_vision']"
   ]
  },
  {
   "cell_type": "code",
   "execution_count": 11,
   "metadata": {},
   "outputs": [],
   "source": [
    "# Make sure to take your Endpoint from Overview page of API in Azure Portal\n",
    "_url = 'https://southcentralus.api.cognitive.microsoft.com/customvision/v2.0/Prediction/98f8b1d4-53d2-4bd9-a6f6-caac5b39c0ff/url?iterationId=a96ddf60-bc4e-4d7d-b132-dc058e81bf0d' # change the ending to 'analyze' or 'describe'\n",
    "_key = subscription_key\n",
    "\n",
    "_maxNumRetries = 10"
   ]
  },
  {
   "cell_type": "code",
   "execution_count": 12,
   "metadata": {},
   "outputs": [],
   "source": [
    "def processRequest( json, data, headers, params ):\n",
    "\n",
    "    \"\"\"\n",
    "    Helper function to process the request to Project Oxford\n",
    "\n",
    "    Parameters:\n",
    "    json: Used when processing images from its URL. See API Documentation\n",
    "    data: Used when processing image read from disk. See API Documentation\n",
    "    headers: Used to pass the key information and the data type request\n",
    "    \"\"\"\n",
    "\n",
    "    retries = 0\n",
    "    result = None\n",
    "\n",
    "    while True:\n",
    "        # Use the requests library to make the POST call\n",
    "        response = requests.request( 'post', \n",
    "                                    _url, \n",
    "                                    json=json, \n",
    "                                    data=data, \n",
    "                                    headers=headers, \n",
    "                                    params=params )\n",
    "\n",
    "        if response.status_code == 429: \n",
    "            print( \"Message: %s\" % ( response.json()['error']['message'] ) )\n",
    "            if retries <= _maxNumRetries: \n",
    "                time.sleep(1) \n",
    "                retries += 1\n",
    "                continue\n",
    "            else: \n",
    "                print( 'Error: failed after retrying!' )\n",
    "                break\n",
    "                \n",
    "        # We have a successful response, but let's do some tests on response data\n",
    "        elif response.status_code == 200 or response.status_code == 201:\n",
    "            if 'content-length' in response.headers and \\\n",
    "                int(response.headers['content-length']) == 0: \n",
    "                    \n",
    "                result = None\n",
    "                \n",
    "            elif 'content-type' in response.headers and \\\n",
    "                isinstance(response.headers['content-type'], str):\n",
    "                    \n",
    "                if 'application/json' in response.headers['content-type'].lower(): \n",
    "                    result = response.json() if response.content else None\n",
    "                    \n",
    "                elif 'image' in response.headers['content-type'].lower(): \n",
    "                    result = response.content\n",
    "        else:\n",
    "            print( \"Error code: %d\" % ( response.status_code ) )\n",
    "            print( \"Message: %s\" % ( response.json() ) )\n",
    "\n",
    "        break\n",
    "        \n",
    "    return result"
   ]
  },
  {
   "cell_type": "code",
   "execution_count": 13,
   "metadata": {},
   "outputs": [],
   "source": [
    "def renderResultOnImage( result, img ):\n",
    "    \"\"\"Display the obtained results onto the input image\"\"\"\n",
    "\n",
    "    if 'description' in result:\n",
    "        descrip = result['description']['captions'][0]['text']\n",
    "        print(descrip)\n",
    "        cv2.putText(img, descrip, (30,70), cv2.FONT_HERSHEY_SIMPLEX, 1, (255,0,0), 3)\n",
    "    if 'categories' in result:\n",
    "        # Put a rectangle around the image to reflect accent colors\n",
    "        R = int(result['color']['accentColor'][:2],16)\n",
    "        G = int(result['color']['accentColor'][2:4],16)\n",
    "        B = int(result['color']['accentColor'][4:],16)\n",
    "        if img is not None:\n",
    "            cv2.rectangle(img,(0,0), (img.shape[1], img.shape[0]), color=(R,G,B), thickness=25)\n",
    "\n",
    "        categoryName = sorted(result['categories'], key=lambda x: x['score'])[0]['name']\n",
    "        print(categoryName)\n",
    "        cv2.putText(img, categoryName, (30,70), cv2.FONT_HERSHEY_SIMPLEX, 2, (255,0,0), 3)"
   ]
  },
  {
   "cell_type": "code",
   "execution_count": 14,
   "metadata": {},
   "outputs": [],
   "source": [
    "urlImage = 'https://outdoorgearlab-mvnab3pwrvp3t0.stackpathdns.com/photos/16/51/286670_31243_M.jpg'"
   ]
  },
  {
   "cell_type": "code",
   "execution_count": 15,
   "metadata": {
    "scrolled": false
   },
   "outputs": [
    {
     "data": {
      "text/html": [
       "<img src=\"https://outdoorgearlab-mvnab3pwrvp3t0.stackpathdns.com/photos/16/51/286670_31243_M.jpg\"/>"
      ],
      "text/plain": [
       "<IPython.core.display.Image object>"
      ]
     },
     "metadata": {},
     "output_type": "display_data"
    }
   ],
   "source": [
    "from IPython.display import display, Image\n",
    "\n",
    "\n",
    "# Computer Vision parameters\n",
    "params = { 'visualFeatures' : 'Color,Categories'} \n",
    "\n",
    "headers = dict()\n",
    "headers['Prediction-Key'] = _key\n",
    "headers['Content-Type'] = 'application/json' \n",
    "\n",
    "json = { 'url': urlImage } \n",
    "data = None\n",
    "\n",
    "result = processRequest(json, data, headers, params)\n",
    "\n",
    "if result is not None:\n",
    "    # Load the original image, fetched from the URL\n",
    "    arr = np.asarray( bytearray( requests.get( urlImage ).content ), \n",
    "                     dtype=np.uint8 )\n",
    "    arr = arr[...,::-1]\n",
    "    \n",
    "    img = cv2.imdecode(arr, cv2.IMREAD_COLOR)\n",
    "    \n",
    "    \n",
    "\n",
    "    renderResultOnImage(result, img)\n",
    "    \n",
    "    if img is not None:\n",
    "        plt.subplots(figsize=(15, 20))\n",
    "        plt.imshow(img)\n",
    "    else:\n",
    "        img = Image(url=urlImage, embed=False)\n",
    "        display(img)"
   ]
  },
  {
   "cell_type": "code",
   "execution_count": 17,
   "metadata": {},
   "outputs": [
    {
     "name": "stdout",
     "output_type": "stream",
     "text": [
      "{'predictions': [{'tagName': 'hardshell_jackets', 'tagId': '42b3d053-5bbc-4de8-8387-be2a0700a437', 'probability': 1.0}, {'tagName': 'insulated_jackets', 'tagId': 'f768db76-1fdd-4441-9984-a81b2c397c98', 'probability': 5.538676e-08}], 'iteration': 'a96ddf60-bc4e-4d7d-b132-dc058e81bf0d', 'id': '9c4b89da-1741-413f-a268-94e4a2c56b8f', 'project': '98f8b1d4-53d2-4bd9-a6f6-caac5b39c0ff', 'created': '2018-10-02T18:22:16.2574208Z'}\n"
     ]
    }
   ],
   "source": [
    "print(result)"
   ]
  },
  {
   "cell_type": "code",
   "execution_count": null,
   "metadata": {},
   "outputs": [],
   "source": []
  }
 ],
 "metadata": {
  "kernelspec": {
   "display_name": "Python 3",
   "language": "python",
   "name": "python3"
  },
  "language_info": {
   "codemirror_mode": {
    "name": "ipython",
    "version": 3
   },
   "file_extension": ".py",
   "mimetype": "text/x-python",
   "name": "python",
   "nbconvert_exporter": "python",
   "pygments_lexer": "ipython3",
   "version": "3.5.5"
  }
 },
 "nbformat": 4,
 "nbformat_minor": 2
}
